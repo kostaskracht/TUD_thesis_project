{
 "cells": [
  {
   "cell_type": "markdown",
   "id": "72b94f63",
   "metadata": {},
   "source": [
    "# Analyzing MO Results!"
   ]
  },
  {
   "cell_type": "code",
   "execution_count": 1,
   "id": "dd232db1",
   "metadata": {},
   "outputs": [],
   "source": [
    "# Load libraries\n",
    "import numpy as np\n",
    "import json\n",
    "import pandas as pd\n",
    "import matplotlib.pyplot as plt\n",
    "import os\n",
    "import glob\n",
    "\n",
    "from utils_analysis import plot_interactive, hypervolume, sparsity"
   ]
  },
  {
   "cell_type": "markdown",
   "id": "65fb13d8",
   "metadata": {},
   "source": [
    "Notes:\n",
    "\n",
    "- iter_<>.json files corresponds to (iter + 1). \n",
    "- There is no overlap between the the different executions.\n",
    "\n",
    "Objectives:\n",
    "- Get CCS the points and compute the Hypervolume and sparsity"
   ]
  },
  {
   "cell_type": "code",
   "execution_count": 25,
   "id": "ed50fd6f",
   "metadata": {},
   "outputs": [],
   "source": [
    "# res_dir = \"ols_no_reuse/outputs/seed1234/\"\n",
    "res_dir = \"ols_no_reuse/outputs/seed1254/\""
   ]
  },
  {
   "cell_type": "code",
   "execution_count": 26,
   "id": "b2e8c9d1",
   "metadata": {},
   "outputs": [
    {
     "data": {
      "text/plain": [
       "'C:\\\\Users\\\\goust\\\\Documents\\\\EARLY_YEARS\\\\Master\\\\TU Delft\\\\Thesis_project\\\\results\\\\greenlight\\\\ols_no_reuse\\\\outputs\\\\seed1254'"
      ]
     },
     "execution_count": 26,
     "metadata": {},
     "output_type": "execute_result"
    }
   ],
   "source": [
    "# Go to execution directory \n",
    "try:\n",
    "    os.chdir(\"../../results/greenlight/\" + res_dir)\n",
    "except:\n",
    "    try:\n",
    "        os.chdir(\"../../../\" + res_dir)\n",
    "    except:\n",
    "        pass\n",
    "    pass\n",
    "os.getcwd()"
   ]
  },
  {
   "cell_type": "code",
   "execution_count": 27,
   "id": "4c37569b",
   "metadata": {},
   "outputs": [
    {
     "name": "stdout",
     "output_type": "stream",
     "text": [
      "Execution contains 98 iterations.\n"
     ]
    }
   ],
   "source": [
    "# Get all iter filenames\n",
    "jsons = glob.glob('*/iters/iter_[0-9]*.json')\n",
    "\n",
    "result_files = []\n",
    "for idx in range(1,500):\n",
    "    try:\n",
    "        f = [i for i in jsons if f\"iter_{idx}.json\" in i][-1]\n",
    "    except:\n",
    "        break\n",
    "    result_files.append(f)\n",
    "tot_iterations = idx - 1\n",
    "print(f\"Execution contains {tot_iterations} iterations.\")"
   ]
  },
  {
   "cell_type": "code",
   "execution_count": 28,
   "id": "b96aa1c3",
   "metadata": {},
   "outputs": [],
   "source": [
    "# Read last iteration and plot ccs\n",
    "final_json = json.load(open(result_files[-1]))"
   ]
  },
  {
   "cell_type": "code",
   "execution_count": 36,
   "id": "6d203bc5",
   "metadata": {},
   "outputs": [
    {
     "data": {
      "application/vnd.plotly.v1+json": {
       "config": {
        "plotlyServerURL": "https://plot.ly"
       },
       "data": [
        {
         "hovertemplate": "Lifecycle maintenance cost=%{x}<br>Lifecycle carbon emissions=%{y}<br>Lifecycle user cost=%{z}<extra></extra>",
         "legendgroup": "",
         "marker": {
          "color": "#636efa",
          "opacity": 0.7,
          "symbol": "circle"
         },
         "mode": "markers",
         "name": "",
         "scene": "scene",
         "showlegend": false,
         "type": "scatter3d",
         "x": [
          -3.6927688121795654,
          -85.70116424560547,
          -9.387371063232422,
          -7.5070905685424805,
          -52.033477783203125,
          -9.221617698669434,
          -40.694664001464844,
          -62.47063064575195,
          -13.621269226074219,
          -45.03915023803711,
          -31.889196395874023,
          -8.643288612365723,
          -10.593310356140137,
          -7.348937511444092,
          -17.486574172973633,
          -7.720539569854736,
          -7.452991485595703,
          -75.501220703125,
          -76.3057632446289,
          -4.044714450836182,
          -14.867206573486328,
          -14.437094688415527,
          -19.066905975341797,
          -6.556475639343262,
          -6.912739276885986,
          -79.46871948242188,
          -5.997488498687744,
          -12.405003547668457,
          -34.193965911865234,
          -8.611605644226074,
          -46.35264587402344,
          -71.78861236572266,
          -37.628684997558594,
          -5.3927717208862305,
          -5.252532958984375,
          -60.175697326660156,
          -41.94487762451172,
          -12.852787017822266,
          -6.8214497566223145,
          -67.51982116699219,
          -21.510822296142578,
          -33.174861907958984,
          -8.358488082885742,
          -5.608208179473877,
          -16.861658096313477,
          -14.517451286315918,
          -7.376899242401123,
          -12.008749961853027,
          -6.138779163360596,
          -55.476680755615234,
          -12.294254302978516,
          -7.175073623657227,
          -11.018566131591797,
          -23.38190269470215,
          -18.87873077392578,
          -8.594131469726562,
          -5.1950788497924805,
          -61.40879440307617,
          -5.389608860015869,
          -8.18310832977295,
          -10.870760917663574,
          -38.76778793334961,
          -56.41720199584961,
          -6.031942844390869
         ],
         "y": [
          -7.3968987464904785,
          -52.00917053222656,
          -6.0356340408325195,
          -6.637472152709961,
          -31.525711059570312,
          -14.334315299987793,
          -38.27772521972656,
          -39.3541374206543,
          -21.975404739379883,
          -40.28764343261719,
          -20.00396156311035,
          -8.604371070861816,
          -16.900407791137695,
          -11.633289337158203,
          -23.61236572265625,
          -6.400122165679932,
          -6.899008274078369,
          -46.59065246582031,
          -48.838748931884766,
          -6.861133575439453,
          -19.856204986572266,
          -19.274473190307617,
          -28.232080459594727,
          -8.840414047241211,
          -11.98464584350586,
          -48.86213684082031,
          -7.674850940704346,
          -14.459510803222656,
          -29.928207397460938,
          -7.84549617767334,
          -33.407188415527344,
          -46.93804168701172,
          -24.425100326538086,
          -10.391256332397461,
          -9.889986038208008,
          -38.774723052978516,
          -29.1696720123291,
          -20.577180862426758,
          -11.105249404907227,
          -43.75423812866211,
          -28.061697006225586,
          -32.42820358276367,
          -6.341986179351807,
          -8.53127670288086,
          -25.944002151489258,
          -20.780771255493164,
          -10.201420783996582,
          -17.791711807250977,
          -7.582947254180908,
          -40.6131706237793,
          -18.924463272094727,
          -7.727047920227051,
          -14.805222511291504,
          -20.360685348510742,
          -28.33575439453125,
          -6.8874311447143555,
          -6.755602836608887,
          -45.81074142456055,
          -7.924340724945068,
          -7.168394565582275,
          -12.211277961730957,
          -22.389997482299805,
          -35.92793655395508,
          -10.663654327392578
         ],
         "z": [
          -27.047700881958008,
          -7.742756366729736,
          -33.416316986083984,
          -27.618247985839844,
          -12.899023056030273,
          -20.685317993164062,
          -11.819435119628906,
          -10.544532775878906,
          -17.88113784790039,
          -10.748464584350586,
          -17.176294326782227,
          -22.615514755249023,
          -19.942991256713867,
          -22.013307571411133,
          -16.643844604492188,
          -32.71476745605469,
          -24.699256896972656,
          -9.717814445495605,
          -8.895654678344727,
          -27.68079376220703,
          -18.257234573364258,
          -18.37232208251953,
          -15.864941596984863,
          -23.60738754272461,
          -22.15469741821289,
          -8.370150566101074,
          -24.925853729248047,
          -19.380382537841797,
          -14.739609718322754,
          -22.694448471069336,
          -13.594371795654297,
          -9.06576156616211,
          -16.04470443725586,
          -24.369552612304688,
          -24.898269653320312,
          -11.300405502319336,
          -13.704106330871582,
          -18.124107360839844,
          -22.18399429321289,
          -10.013629913330078,
          -15.609033584594727,
          -14.506353378295898,
          -28.607358932495117,
          -23.846200942993164,
          -15.921363830566406,
          -17.812164306640625,
          -22.411056518554688,
          -18.939401626586914,
          -24.152606964111328,
          -10.420279502868652,
          -18.626182556152344,
          -23.913501739501953,
          -19.8388729095459,
          -17.080062866210938,
          -15.806264877319336,
          -24.629100799560547,
          -26.356107711791992,
          -9.947517395019531,
          -24.775522232055664,
          -23.124221801757812,
          -20.955015182495117,
          -15.491228103637695,
          -12.231797218322754,
          -23.597900390625
         ]
        }
       ],
       "layout": {
        "height": 600,
        "legend": {
         "tracegroupgap": 0
        },
        "margin": {
         "b": 0,
         "l": 0,
         "r": 0,
         "t": 0
        },
        "scene": {
         "domain": {
          "x": [
           0,
           1
          ],
          "y": [
           0,
           1
          ]
         },
         "xaxis": {
          "title": {
           "text": "Lifecycle maintenance cost"
          }
         },
         "yaxis": {
          "title": {
           "text": "Lifecycle carbon emissions"
          }
         },
         "zaxis": {
          "title": {
           "text": "Lifecycle user cost"
          }
         }
        },
        "template": {
         "data": {
          "bar": [
           {
            "error_x": {
             "color": "#2a3f5f"
            },
            "error_y": {
             "color": "#2a3f5f"
            },
            "marker": {
             "line": {
              "color": "#E5ECF6",
              "width": 0.5
             },
             "pattern": {
              "fillmode": "overlay",
              "size": 10,
              "solidity": 0.2
             }
            },
            "type": "bar"
           }
          ],
          "barpolar": [
           {
            "marker": {
             "line": {
              "color": "#E5ECF6",
              "width": 0.5
             },
             "pattern": {
              "fillmode": "overlay",
              "size": 10,
              "solidity": 0.2
             }
            },
            "type": "barpolar"
           }
          ],
          "carpet": [
           {
            "aaxis": {
             "endlinecolor": "#2a3f5f",
             "gridcolor": "white",
             "linecolor": "white",
             "minorgridcolor": "white",
             "startlinecolor": "#2a3f5f"
            },
            "baxis": {
             "endlinecolor": "#2a3f5f",
             "gridcolor": "white",
             "linecolor": "white",
             "minorgridcolor": "white",
             "startlinecolor": "#2a3f5f"
            },
            "type": "carpet"
           }
          ],
          "choropleth": [
           {
            "colorbar": {
             "outlinewidth": 0,
             "ticks": ""
            },
            "type": "choropleth"
           }
          ],
          "contour": [
           {
            "colorbar": {
             "outlinewidth": 0,
             "ticks": ""
            },
            "colorscale": [
             [
              0,
              "#0d0887"
             ],
             [
              0.1111111111111111,
              "#46039f"
             ],
             [
              0.2222222222222222,
              "#7201a8"
             ],
             [
              0.3333333333333333,
              "#9c179e"
             ],
             [
              0.4444444444444444,
              "#bd3786"
             ],
             [
              0.5555555555555556,
              "#d8576b"
             ],
             [
              0.6666666666666666,
              "#ed7953"
             ],
             [
              0.7777777777777778,
              "#fb9f3a"
             ],
             [
              0.8888888888888888,
              "#fdca26"
             ],
             [
              1,
              "#f0f921"
             ]
            ],
            "type": "contour"
           }
          ],
          "contourcarpet": [
           {
            "colorbar": {
             "outlinewidth": 0,
             "ticks": ""
            },
            "type": "contourcarpet"
           }
          ],
          "heatmap": [
           {
            "colorbar": {
             "outlinewidth": 0,
             "ticks": ""
            },
            "colorscale": [
             [
              0,
              "#0d0887"
             ],
             [
              0.1111111111111111,
              "#46039f"
             ],
             [
              0.2222222222222222,
              "#7201a8"
             ],
             [
              0.3333333333333333,
              "#9c179e"
             ],
             [
              0.4444444444444444,
              "#bd3786"
             ],
             [
              0.5555555555555556,
              "#d8576b"
             ],
             [
              0.6666666666666666,
              "#ed7953"
             ],
             [
              0.7777777777777778,
              "#fb9f3a"
             ],
             [
              0.8888888888888888,
              "#fdca26"
             ],
             [
              1,
              "#f0f921"
             ]
            ],
            "type": "heatmap"
           }
          ],
          "heatmapgl": [
           {
            "colorbar": {
             "outlinewidth": 0,
             "ticks": ""
            },
            "colorscale": [
             [
              0,
              "#0d0887"
             ],
             [
              0.1111111111111111,
              "#46039f"
             ],
             [
              0.2222222222222222,
              "#7201a8"
             ],
             [
              0.3333333333333333,
              "#9c179e"
             ],
             [
              0.4444444444444444,
              "#bd3786"
             ],
             [
              0.5555555555555556,
              "#d8576b"
             ],
             [
              0.6666666666666666,
              "#ed7953"
             ],
             [
              0.7777777777777778,
              "#fb9f3a"
             ],
             [
              0.8888888888888888,
              "#fdca26"
             ],
             [
              1,
              "#f0f921"
             ]
            ],
            "type": "heatmapgl"
           }
          ],
          "histogram": [
           {
            "marker": {
             "pattern": {
              "fillmode": "overlay",
              "size": 10,
              "solidity": 0.2
             }
            },
            "type": "histogram"
           }
          ],
          "histogram2d": [
           {
            "colorbar": {
             "outlinewidth": 0,
             "ticks": ""
            },
            "colorscale": [
             [
              0,
              "#0d0887"
             ],
             [
              0.1111111111111111,
              "#46039f"
             ],
             [
              0.2222222222222222,
              "#7201a8"
             ],
             [
              0.3333333333333333,
              "#9c179e"
             ],
             [
              0.4444444444444444,
              "#bd3786"
             ],
             [
              0.5555555555555556,
              "#d8576b"
             ],
             [
              0.6666666666666666,
              "#ed7953"
             ],
             [
              0.7777777777777778,
              "#fb9f3a"
             ],
             [
              0.8888888888888888,
              "#fdca26"
             ],
             [
              1,
              "#f0f921"
             ]
            ],
            "type": "histogram2d"
           }
          ],
          "histogram2dcontour": [
           {
            "colorbar": {
             "outlinewidth": 0,
             "ticks": ""
            },
            "colorscale": [
             [
              0,
              "#0d0887"
             ],
             [
              0.1111111111111111,
              "#46039f"
             ],
             [
              0.2222222222222222,
              "#7201a8"
             ],
             [
              0.3333333333333333,
              "#9c179e"
             ],
             [
              0.4444444444444444,
              "#bd3786"
             ],
             [
              0.5555555555555556,
              "#d8576b"
             ],
             [
              0.6666666666666666,
              "#ed7953"
             ],
             [
              0.7777777777777778,
              "#fb9f3a"
             ],
             [
              0.8888888888888888,
              "#fdca26"
             ],
             [
              1,
              "#f0f921"
             ]
            ],
            "type": "histogram2dcontour"
           }
          ],
          "mesh3d": [
           {
            "colorbar": {
             "outlinewidth": 0,
             "ticks": ""
            },
            "type": "mesh3d"
           }
          ],
          "parcoords": [
           {
            "line": {
             "colorbar": {
              "outlinewidth": 0,
              "ticks": ""
             }
            },
            "type": "parcoords"
           }
          ],
          "pie": [
           {
            "automargin": true,
            "type": "pie"
           }
          ],
          "scatter": [
           {
            "fillpattern": {
             "fillmode": "overlay",
             "size": 10,
             "solidity": 0.2
            },
            "type": "scatter"
           }
          ],
          "scatter3d": [
           {
            "line": {
             "colorbar": {
              "outlinewidth": 0,
              "ticks": ""
             }
            },
            "marker": {
             "colorbar": {
              "outlinewidth": 0,
              "ticks": ""
             }
            },
            "type": "scatter3d"
           }
          ],
          "scattercarpet": [
           {
            "marker": {
             "colorbar": {
              "outlinewidth": 0,
              "ticks": ""
             }
            },
            "type": "scattercarpet"
           }
          ],
          "scattergeo": [
           {
            "marker": {
             "colorbar": {
              "outlinewidth": 0,
              "ticks": ""
             }
            },
            "type": "scattergeo"
           }
          ],
          "scattergl": [
           {
            "marker": {
             "colorbar": {
              "outlinewidth": 0,
              "ticks": ""
             }
            },
            "type": "scattergl"
           }
          ],
          "scattermapbox": [
           {
            "marker": {
             "colorbar": {
              "outlinewidth": 0,
              "ticks": ""
             }
            },
            "type": "scattermapbox"
           }
          ],
          "scatterpolar": [
           {
            "marker": {
             "colorbar": {
              "outlinewidth": 0,
              "ticks": ""
             }
            },
            "type": "scatterpolar"
           }
          ],
          "scatterpolargl": [
           {
            "marker": {
             "colorbar": {
              "outlinewidth": 0,
              "ticks": ""
             }
            },
            "type": "scatterpolargl"
           }
          ],
          "scatterternary": [
           {
            "marker": {
             "colorbar": {
              "outlinewidth": 0,
              "ticks": ""
             }
            },
            "type": "scatterternary"
           }
          ],
          "surface": [
           {
            "colorbar": {
             "outlinewidth": 0,
             "ticks": ""
            },
            "colorscale": [
             [
              0,
              "#0d0887"
             ],
             [
              0.1111111111111111,
              "#46039f"
             ],
             [
              0.2222222222222222,
              "#7201a8"
             ],
             [
              0.3333333333333333,
              "#9c179e"
             ],
             [
              0.4444444444444444,
              "#bd3786"
             ],
             [
              0.5555555555555556,
              "#d8576b"
             ],
             [
              0.6666666666666666,
              "#ed7953"
             ],
             [
              0.7777777777777778,
              "#fb9f3a"
             ],
             [
              0.8888888888888888,
              "#fdca26"
             ],
             [
              1,
              "#f0f921"
             ]
            ],
            "type": "surface"
           }
          ],
          "table": [
           {
            "cells": {
             "fill": {
              "color": "#EBF0F8"
             },
             "line": {
              "color": "white"
             }
            },
            "header": {
             "fill": {
              "color": "#C8D4E3"
             },
             "line": {
              "color": "white"
             }
            },
            "type": "table"
           }
          ]
         },
         "layout": {
          "annotationdefaults": {
           "arrowcolor": "#2a3f5f",
           "arrowhead": 0,
           "arrowwidth": 1
          },
          "autotypenumbers": "strict",
          "coloraxis": {
           "colorbar": {
            "outlinewidth": 0,
            "ticks": ""
           }
          },
          "colorscale": {
           "diverging": [
            [
             0,
             "#8e0152"
            ],
            [
             0.1,
             "#c51b7d"
            ],
            [
             0.2,
             "#de77ae"
            ],
            [
             0.3,
             "#f1b6da"
            ],
            [
             0.4,
             "#fde0ef"
            ],
            [
             0.5,
             "#f7f7f7"
            ],
            [
             0.6,
             "#e6f5d0"
            ],
            [
             0.7,
             "#b8e186"
            ],
            [
             0.8,
             "#7fbc41"
            ],
            [
             0.9,
             "#4d9221"
            ],
            [
             1,
             "#276419"
            ]
           ],
           "sequential": [
            [
             0,
             "#0d0887"
            ],
            [
             0.1111111111111111,
             "#46039f"
            ],
            [
             0.2222222222222222,
             "#7201a8"
            ],
            [
             0.3333333333333333,
             "#9c179e"
            ],
            [
             0.4444444444444444,
             "#bd3786"
            ],
            [
             0.5555555555555556,
             "#d8576b"
            ],
            [
             0.6666666666666666,
             "#ed7953"
            ],
            [
             0.7777777777777778,
             "#fb9f3a"
            ],
            [
             0.8888888888888888,
             "#fdca26"
            ],
            [
             1,
             "#f0f921"
            ]
           ],
           "sequentialminus": [
            [
             0,
             "#0d0887"
            ],
            [
             0.1111111111111111,
             "#46039f"
            ],
            [
             0.2222222222222222,
             "#7201a8"
            ],
            [
             0.3333333333333333,
             "#9c179e"
            ],
            [
             0.4444444444444444,
             "#bd3786"
            ],
            [
             0.5555555555555556,
             "#d8576b"
            ],
            [
             0.6666666666666666,
             "#ed7953"
            ],
            [
             0.7777777777777778,
             "#fb9f3a"
            ],
            [
             0.8888888888888888,
             "#fdca26"
            ],
            [
             1,
             "#f0f921"
            ]
           ]
          },
          "colorway": [
           "#636efa",
           "#EF553B",
           "#00cc96",
           "#ab63fa",
           "#FFA15A",
           "#19d3f3",
           "#FF6692",
           "#B6E880",
           "#FF97FF",
           "#FECB52"
          ],
          "font": {
           "color": "#2a3f5f"
          },
          "geo": {
           "bgcolor": "white",
           "lakecolor": "white",
           "landcolor": "#E5ECF6",
           "showlakes": true,
           "showland": true,
           "subunitcolor": "white"
          },
          "hoverlabel": {
           "align": "left"
          },
          "hovermode": "closest",
          "mapbox": {
           "style": "light"
          },
          "paper_bgcolor": "white",
          "plot_bgcolor": "#E5ECF6",
          "polar": {
           "angularaxis": {
            "gridcolor": "white",
            "linecolor": "white",
            "ticks": ""
           },
           "bgcolor": "#E5ECF6",
           "radialaxis": {
            "gridcolor": "white",
            "linecolor": "white",
            "ticks": ""
           }
          },
          "scene": {
           "xaxis": {
            "backgroundcolor": "#E5ECF6",
            "gridcolor": "white",
            "gridwidth": 2,
            "linecolor": "white",
            "showbackground": true,
            "ticks": "",
            "zerolinecolor": "white"
           },
           "yaxis": {
            "backgroundcolor": "#E5ECF6",
            "gridcolor": "white",
            "gridwidth": 2,
            "linecolor": "white",
            "showbackground": true,
            "ticks": "",
            "zerolinecolor": "white"
           },
           "zaxis": {
            "backgroundcolor": "#E5ECF6",
            "gridcolor": "white",
            "gridwidth": 2,
            "linecolor": "white",
            "showbackground": true,
            "ticks": "",
            "zerolinecolor": "white"
           }
          },
          "shapedefaults": {
           "line": {
            "color": "#2a3f5f"
           }
          },
          "ternary": {
           "aaxis": {
            "gridcolor": "white",
            "linecolor": "white",
            "ticks": ""
           },
           "baxis": {
            "gridcolor": "white",
            "linecolor": "white",
            "ticks": ""
           },
           "bgcolor": "#E5ECF6",
           "caxis": {
            "gridcolor": "white",
            "linecolor": "white",
            "ticks": ""
           }
          },
          "title": {
           "x": 0.05
          },
          "xaxis": {
           "automargin": true,
           "gridcolor": "white",
           "linecolor": "white",
           "ticks": "",
           "title": {
            "standoff": 15
           },
           "zerolinecolor": "white",
           "zerolinewidth": 2
          },
          "yaxis": {
           "automargin": true,
           "gridcolor": "white",
           "linecolor": "white",
           "ticks": "",
           "title": {
            "standoff": 15
           },
           "zerolinecolor": "white",
           "zerolinewidth": 2
          }
         }
        },
        "width": 1000
       }
      },
      "text/html": [
       "<div>                            <div id=\"d21399ad-3912-46c2-b258-e560d316b275\" class=\"plotly-graph-div\" style=\"height:600px; width:1000px;\"></div>            <script type=\"text/javascript\">                require([\"plotly\"], function(Plotly) {                    window.PLOTLYENV=window.PLOTLYENV || {};                                    if (document.getElementById(\"d21399ad-3912-46c2-b258-e560d316b275\")) {                    Plotly.newPlot(                        \"d21399ad-3912-46c2-b258-e560d316b275\",                        [{\"hovertemplate\":\"Lifecycle maintenance cost=%{x}<br>Lifecycle carbon emissions=%{y}<br>Lifecycle user cost=%{z}<extra></extra>\",\"legendgroup\":\"\",\"marker\":{\"color\":\"#636efa\",\"opacity\":0.7,\"symbol\":\"circle\"},\"mode\":\"markers\",\"name\":\"\",\"scene\":\"scene\",\"showlegend\":false,\"x\":[-3.6927688121795654,-85.70116424560547,-9.387371063232422,-7.5070905685424805,-52.033477783203125,-9.221617698669434,-40.694664001464844,-62.47063064575195,-13.621269226074219,-45.03915023803711,-31.889196395874023,-8.643288612365723,-10.593310356140137,-7.348937511444092,-17.486574172973633,-7.720539569854736,-7.452991485595703,-75.501220703125,-76.3057632446289,-4.044714450836182,-14.867206573486328,-14.437094688415527,-19.066905975341797,-6.556475639343262,-6.912739276885986,-79.46871948242188,-5.997488498687744,-12.405003547668457,-34.193965911865234,-8.611605644226074,-46.35264587402344,-71.78861236572266,-37.628684997558594,-5.3927717208862305,-5.252532958984375,-60.175697326660156,-41.94487762451172,-12.852787017822266,-6.8214497566223145,-67.51982116699219,-21.510822296142578,-33.174861907958984,-8.358488082885742,-5.608208179473877,-16.861658096313477,-14.517451286315918,-7.376899242401123,-12.008749961853027,-6.138779163360596,-55.476680755615234,-12.294254302978516,-7.175073623657227,-11.018566131591797,-23.38190269470215,-18.87873077392578,-8.594131469726562,-5.1950788497924805,-61.40879440307617,-5.389608860015869,-8.18310832977295,-10.870760917663574,-38.76778793334961,-56.41720199584961,-6.031942844390869],\"y\":[-7.3968987464904785,-52.00917053222656,-6.0356340408325195,-6.637472152709961,-31.525711059570312,-14.334315299987793,-38.27772521972656,-39.3541374206543,-21.975404739379883,-40.28764343261719,-20.00396156311035,-8.604371070861816,-16.900407791137695,-11.633289337158203,-23.61236572265625,-6.400122165679932,-6.899008274078369,-46.59065246582031,-48.838748931884766,-6.861133575439453,-19.856204986572266,-19.274473190307617,-28.232080459594727,-8.840414047241211,-11.98464584350586,-48.86213684082031,-7.674850940704346,-14.459510803222656,-29.928207397460938,-7.84549617767334,-33.407188415527344,-46.93804168701172,-24.425100326538086,-10.391256332397461,-9.889986038208008,-38.774723052978516,-29.1696720123291,-20.577180862426758,-11.105249404907227,-43.75423812866211,-28.061697006225586,-32.42820358276367,-6.341986179351807,-8.53127670288086,-25.944002151489258,-20.780771255493164,-10.201420783996582,-17.791711807250977,-7.582947254180908,-40.6131706237793,-18.924463272094727,-7.727047920227051,-14.805222511291504,-20.360685348510742,-28.33575439453125,-6.8874311447143555,-6.755602836608887,-45.81074142456055,-7.924340724945068,-7.168394565582275,-12.211277961730957,-22.389997482299805,-35.92793655395508,-10.663654327392578],\"z\":[-27.047700881958008,-7.742756366729736,-33.416316986083984,-27.618247985839844,-12.899023056030273,-20.685317993164062,-11.819435119628906,-10.544532775878906,-17.88113784790039,-10.748464584350586,-17.176294326782227,-22.615514755249023,-19.942991256713867,-22.013307571411133,-16.643844604492188,-32.71476745605469,-24.699256896972656,-9.717814445495605,-8.895654678344727,-27.68079376220703,-18.257234573364258,-18.37232208251953,-15.864941596984863,-23.60738754272461,-22.15469741821289,-8.370150566101074,-24.925853729248047,-19.380382537841797,-14.739609718322754,-22.694448471069336,-13.594371795654297,-9.06576156616211,-16.04470443725586,-24.369552612304688,-24.898269653320312,-11.300405502319336,-13.704106330871582,-18.124107360839844,-22.18399429321289,-10.013629913330078,-15.609033584594727,-14.506353378295898,-28.607358932495117,-23.846200942993164,-15.921363830566406,-17.812164306640625,-22.411056518554688,-18.939401626586914,-24.152606964111328,-10.420279502868652,-18.626182556152344,-23.913501739501953,-19.8388729095459,-17.080062866210938,-15.806264877319336,-24.629100799560547,-26.356107711791992,-9.947517395019531,-24.775522232055664,-23.124221801757812,-20.955015182495117,-15.491228103637695,-12.231797218322754,-23.597900390625],\"type\":\"scatter3d\"}],                        {\"template\":{\"data\":{\"histogram2dcontour\":[{\"type\":\"histogram2dcontour\",\"colorbar\":{\"outlinewidth\":0,\"ticks\":\"\"},\"colorscale\":[[0.0,\"#0d0887\"],[0.1111111111111111,\"#46039f\"],[0.2222222222222222,\"#7201a8\"],[0.3333333333333333,\"#9c179e\"],[0.4444444444444444,\"#bd3786\"],[0.5555555555555556,\"#d8576b\"],[0.6666666666666666,\"#ed7953\"],[0.7777777777777778,\"#fb9f3a\"],[0.8888888888888888,\"#fdca26\"],[1.0,\"#f0f921\"]]}],\"choropleth\":[{\"type\":\"choropleth\",\"colorbar\":{\"outlinewidth\":0,\"ticks\":\"\"}}],\"histogram2d\":[{\"type\":\"histogram2d\",\"colorbar\":{\"outlinewidth\":0,\"ticks\":\"\"},\"colorscale\":[[0.0,\"#0d0887\"],[0.1111111111111111,\"#46039f\"],[0.2222222222222222,\"#7201a8\"],[0.3333333333333333,\"#9c179e\"],[0.4444444444444444,\"#bd3786\"],[0.5555555555555556,\"#d8576b\"],[0.6666666666666666,\"#ed7953\"],[0.7777777777777778,\"#fb9f3a\"],[0.8888888888888888,\"#fdca26\"],[1.0,\"#f0f921\"]]}],\"heatmap\":[{\"type\":\"heatmap\",\"colorbar\":{\"outlinewidth\":0,\"ticks\":\"\"},\"colorscale\":[[0.0,\"#0d0887\"],[0.1111111111111111,\"#46039f\"],[0.2222222222222222,\"#7201a8\"],[0.3333333333333333,\"#9c179e\"],[0.4444444444444444,\"#bd3786\"],[0.5555555555555556,\"#d8576b\"],[0.6666666666666666,\"#ed7953\"],[0.7777777777777778,\"#fb9f3a\"],[0.8888888888888888,\"#fdca26\"],[1.0,\"#f0f921\"]]}],\"heatmapgl\":[{\"type\":\"heatmapgl\",\"colorbar\":{\"outlinewidth\":0,\"ticks\":\"\"},\"colorscale\":[[0.0,\"#0d0887\"],[0.1111111111111111,\"#46039f\"],[0.2222222222222222,\"#7201a8\"],[0.3333333333333333,\"#9c179e\"],[0.4444444444444444,\"#bd3786\"],[0.5555555555555556,\"#d8576b\"],[0.6666666666666666,\"#ed7953\"],[0.7777777777777778,\"#fb9f3a\"],[0.8888888888888888,\"#fdca26\"],[1.0,\"#f0f921\"]]}],\"contourcarpet\":[{\"type\":\"contourcarpet\",\"colorbar\":{\"outlinewidth\":0,\"ticks\":\"\"}}],\"contour\":[{\"type\":\"contour\",\"colorbar\":{\"outlinewidth\":0,\"ticks\":\"\"},\"colorscale\":[[0.0,\"#0d0887\"],[0.1111111111111111,\"#46039f\"],[0.2222222222222222,\"#7201a8\"],[0.3333333333333333,\"#9c179e\"],[0.4444444444444444,\"#bd3786\"],[0.5555555555555556,\"#d8576b\"],[0.6666666666666666,\"#ed7953\"],[0.7777777777777778,\"#fb9f3a\"],[0.8888888888888888,\"#fdca26\"],[1.0,\"#f0f921\"]]}],\"surface\":[{\"type\":\"surface\",\"colorbar\":{\"outlinewidth\":0,\"ticks\":\"\"},\"colorscale\":[[0.0,\"#0d0887\"],[0.1111111111111111,\"#46039f\"],[0.2222222222222222,\"#7201a8\"],[0.3333333333333333,\"#9c179e\"],[0.4444444444444444,\"#bd3786\"],[0.5555555555555556,\"#d8576b\"],[0.6666666666666666,\"#ed7953\"],[0.7777777777777778,\"#fb9f3a\"],[0.8888888888888888,\"#fdca26\"],[1.0,\"#f0f921\"]]}],\"mesh3d\":[{\"type\":\"mesh3d\",\"colorbar\":{\"outlinewidth\":0,\"ticks\":\"\"}}],\"scatter\":[{\"fillpattern\":{\"fillmode\":\"overlay\",\"size\":10,\"solidity\":0.2},\"type\":\"scatter\"}],\"parcoords\":[{\"type\":\"parcoords\",\"line\":{\"colorbar\":{\"outlinewidth\":0,\"ticks\":\"\"}}}],\"scatterpolargl\":[{\"type\":\"scatterpolargl\",\"marker\":{\"colorbar\":{\"outlinewidth\":0,\"ticks\":\"\"}}}],\"bar\":[{\"error_x\":{\"color\":\"#2a3f5f\"},\"error_y\":{\"color\":\"#2a3f5f\"},\"marker\":{\"line\":{\"color\":\"#E5ECF6\",\"width\":0.5},\"pattern\":{\"fillmode\":\"overlay\",\"size\":10,\"solidity\":0.2}},\"type\":\"bar\"}],\"scattergeo\":[{\"type\":\"scattergeo\",\"marker\":{\"colorbar\":{\"outlinewidth\":0,\"ticks\":\"\"}}}],\"scatterpolar\":[{\"type\":\"scatterpolar\",\"marker\":{\"colorbar\":{\"outlinewidth\":0,\"ticks\":\"\"}}}],\"histogram\":[{\"marker\":{\"pattern\":{\"fillmode\":\"overlay\",\"size\":10,\"solidity\":0.2}},\"type\":\"histogram\"}],\"scattergl\":[{\"type\":\"scattergl\",\"marker\":{\"colorbar\":{\"outlinewidth\":0,\"ticks\":\"\"}}}],\"scatter3d\":[{\"type\":\"scatter3d\",\"line\":{\"colorbar\":{\"outlinewidth\":0,\"ticks\":\"\"}},\"marker\":{\"colorbar\":{\"outlinewidth\":0,\"ticks\":\"\"}}}],\"scattermapbox\":[{\"type\":\"scattermapbox\",\"marker\":{\"colorbar\":{\"outlinewidth\":0,\"ticks\":\"\"}}}],\"scatterternary\":[{\"type\":\"scatterternary\",\"marker\":{\"colorbar\":{\"outlinewidth\":0,\"ticks\":\"\"}}}],\"scattercarpet\":[{\"type\":\"scattercarpet\",\"marker\":{\"colorbar\":{\"outlinewidth\":0,\"ticks\":\"\"}}}],\"carpet\":[{\"aaxis\":{\"endlinecolor\":\"#2a3f5f\",\"gridcolor\":\"white\",\"linecolor\":\"white\",\"minorgridcolor\":\"white\",\"startlinecolor\":\"#2a3f5f\"},\"baxis\":{\"endlinecolor\":\"#2a3f5f\",\"gridcolor\":\"white\",\"linecolor\":\"white\",\"minorgridcolor\":\"white\",\"startlinecolor\":\"#2a3f5f\"},\"type\":\"carpet\"}],\"table\":[{\"cells\":{\"fill\":{\"color\":\"#EBF0F8\"},\"line\":{\"color\":\"white\"}},\"header\":{\"fill\":{\"color\":\"#C8D4E3\"},\"line\":{\"color\":\"white\"}},\"type\":\"table\"}],\"barpolar\":[{\"marker\":{\"line\":{\"color\":\"#E5ECF6\",\"width\":0.5},\"pattern\":{\"fillmode\":\"overlay\",\"size\":10,\"solidity\":0.2}},\"type\":\"barpolar\"}],\"pie\":[{\"automargin\":true,\"type\":\"pie\"}]},\"layout\":{\"autotypenumbers\":\"strict\",\"colorway\":[\"#636efa\",\"#EF553B\",\"#00cc96\",\"#ab63fa\",\"#FFA15A\",\"#19d3f3\",\"#FF6692\",\"#B6E880\",\"#FF97FF\",\"#FECB52\"],\"font\":{\"color\":\"#2a3f5f\"},\"hovermode\":\"closest\",\"hoverlabel\":{\"align\":\"left\"},\"paper_bgcolor\":\"white\",\"plot_bgcolor\":\"#E5ECF6\",\"polar\":{\"bgcolor\":\"#E5ECF6\",\"angularaxis\":{\"gridcolor\":\"white\",\"linecolor\":\"white\",\"ticks\":\"\"},\"radialaxis\":{\"gridcolor\":\"white\",\"linecolor\":\"white\",\"ticks\":\"\"}},\"ternary\":{\"bgcolor\":\"#E5ECF6\",\"aaxis\":{\"gridcolor\":\"white\",\"linecolor\":\"white\",\"ticks\":\"\"},\"baxis\":{\"gridcolor\":\"white\",\"linecolor\":\"white\",\"ticks\":\"\"},\"caxis\":{\"gridcolor\":\"white\",\"linecolor\":\"white\",\"ticks\":\"\"}},\"coloraxis\":{\"colorbar\":{\"outlinewidth\":0,\"ticks\":\"\"}},\"colorscale\":{\"sequential\":[[0.0,\"#0d0887\"],[0.1111111111111111,\"#46039f\"],[0.2222222222222222,\"#7201a8\"],[0.3333333333333333,\"#9c179e\"],[0.4444444444444444,\"#bd3786\"],[0.5555555555555556,\"#d8576b\"],[0.6666666666666666,\"#ed7953\"],[0.7777777777777778,\"#fb9f3a\"],[0.8888888888888888,\"#fdca26\"],[1.0,\"#f0f921\"]],\"sequentialminus\":[[0.0,\"#0d0887\"],[0.1111111111111111,\"#46039f\"],[0.2222222222222222,\"#7201a8\"],[0.3333333333333333,\"#9c179e\"],[0.4444444444444444,\"#bd3786\"],[0.5555555555555556,\"#d8576b\"],[0.6666666666666666,\"#ed7953\"],[0.7777777777777778,\"#fb9f3a\"],[0.8888888888888888,\"#fdca26\"],[1.0,\"#f0f921\"]],\"diverging\":[[0,\"#8e0152\"],[0.1,\"#c51b7d\"],[0.2,\"#de77ae\"],[0.3,\"#f1b6da\"],[0.4,\"#fde0ef\"],[0.5,\"#f7f7f7\"],[0.6,\"#e6f5d0\"],[0.7,\"#b8e186\"],[0.8,\"#7fbc41\"],[0.9,\"#4d9221\"],[1,\"#276419\"]]},\"xaxis\":{\"gridcolor\":\"white\",\"linecolor\":\"white\",\"ticks\":\"\",\"title\":{\"standoff\":15},\"zerolinecolor\":\"white\",\"automargin\":true,\"zerolinewidth\":2},\"yaxis\":{\"gridcolor\":\"white\",\"linecolor\":\"white\",\"ticks\":\"\",\"title\":{\"standoff\":15},\"zerolinecolor\":\"white\",\"automargin\":true,\"zerolinewidth\":2},\"scene\":{\"xaxis\":{\"backgroundcolor\":\"#E5ECF6\",\"gridcolor\":\"white\",\"linecolor\":\"white\",\"showbackground\":true,\"ticks\":\"\",\"zerolinecolor\":\"white\",\"gridwidth\":2},\"yaxis\":{\"backgroundcolor\":\"#E5ECF6\",\"gridcolor\":\"white\",\"linecolor\":\"white\",\"showbackground\":true,\"ticks\":\"\",\"zerolinecolor\":\"white\",\"gridwidth\":2},\"zaxis\":{\"backgroundcolor\":\"#E5ECF6\",\"gridcolor\":\"white\",\"linecolor\":\"white\",\"showbackground\":true,\"ticks\":\"\",\"zerolinecolor\":\"white\",\"gridwidth\":2}},\"shapedefaults\":{\"line\":{\"color\":\"#2a3f5f\"}},\"annotationdefaults\":{\"arrowcolor\":\"#2a3f5f\",\"arrowhead\":0,\"arrowwidth\":1},\"geo\":{\"bgcolor\":\"white\",\"landcolor\":\"#E5ECF6\",\"subunitcolor\":\"white\",\"showland\":true,\"showlakes\":true,\"lakecolor\":\"white\"},\"title\":{\"x\":0.05},\"mapbox\":{\"style\":\"light\"}}},\"scene\":{\"domain\":{\"x\":[0.0,1.0],\"y\":[0.0,1.0]},\"xaxis\":{\"title\":{\"text\":\"Lifecycle maintenance cost\"}},\"yaxis\":{\"title\":{\"text\":\"Lifecycle carbon emissions\"}},\"zaxis\":{\"title\":{\"text\":\"Lifecycle user cost\"}}},\"legend\":{\"tracegroupgap\":0},\"margin\":{\"t\":0,\"l\":0,\"r\":0,\"b\":0},\"width\":1000,\"height\":600},                        {\"responsive\": true}                    ).then(function(){\n",
       "                            \n",
       "var gd = document.getElementById('d21399ad-3912-46c2-b258-e560d316b275');\n",
       "var x = new MutationObserver(function (mutations, observer) {{\n",
       "        var display = window.getComputedStyle(gd).display;\n",
       "        if (!display || display === 'none') {{\n",
       "            console.log([gd, 'removed!']);\n",
       "            Plotly.purge(gd);\n",
       "            observer.disconnect();\n",
       "        }}\n",
       "}});\n",
       "\n",
       "// Listen for the removal of the full notebook cells\n",
       "var notebookContainer = gd.closest('#notebook-container');\n",
       "if (notebookContainer) {{\n",
       "    x.observe(notebookContainer, {childList: true});\n",
       "}}\n",
       "\n",
       "// Listen for the clearing of the current output cell\n",
       "var outputEl = gd.closest('.output');\n",
       "if (outputEl) {{\n",
       "    x.observe(outputEl, {childList: true});\n",
       "}}\n",
       "\n",
       "                        })                };                });            </script>        </div>"
      ]
     },
     "metadata": {},
     "output_type": "display_data"
    }
   ],
   "source": [
    "# Plot interactive\n",
    "fig = plot_interactive(final_json[\"ccs\"], size=[1000, 600])"
   ]
  },
  {
   "cell_type": "code",
   "execution_count": 42,
   "id": "af6e697c",
   "metadata": {
    "scrolled": false
   },
   "outputs": [
    {
     "data": {
      "application/vnd.jupyter.widget-view+json": {
       "model_id": "401dff1a3ca4432d9dd6ab62cafbceec",
       "version_major": 2,
       "version_minor": 0
      },
      "text/plain": [
       "interactive(children=(IntSlider(value=0, description='iteration', max=98), Output()), _dom_classes=('widget-in…"
      ]
     },
     "metadata": {},
     "output_type": "display_data"
    }
   ],
   "source": [
    "from ipywidgets import IntSlider, interact, FloatSlider\n",
    "\n",
    "@interact(iteration = IntSlider(min = 0, max = tot_iterations))\n",
    "def execute(iteration):\n",
    "    final_json = json.load(open(result_files[iteration]))\n",
    "    for obj in list(itertools.permutations([0, 1, 2], 2)):\n",
    "        if obj[0] <= obj[1]: continue\n",
    "\n",
    "        plot_interactive(final_json[\"ccs\"], obj=obj, size=[500, 300])\n",
    "        \n",
    "# execute(t=tot_iterations-1)"
   ]
  },
  {
   "cell_type": "code",
   "execution_count": 34,
   "id": "2ffa388d",
   "metadata": {},
   "outputs": [
    {
     "data": {
      "image/png": "[encoded data removed]",
      "text/plain": [
       "<Figure size 800x500 with 1 Axes>"
      ]
     },
     "metadata": {},
     "output_type": "display_data"
    },
    {
     "data": {
      "image/png": "[encoded data removed]",
      "text/plain": [
       "<Figure size 800x500 with 1 Axes>"
      ]
     },
     "metadata": {},
     "output_type": "display_data"
    },
    {
     "name": "stdout",
     "output_type": "stream",
     "text": [
      "Final Hypervolume: 55186.89559610035\n",
      "Final Sparsity: 6.325232397371045\n"
     ]
    }
   ],
   "source": [
    "# Compute the Hypervolume and sparsity metrics\n",
    "HV = []\n",
    "sp = []\n",
    "for it in range(10,tot_iterations):\n",
    "    json_file = json.load(open(result_files[it]))\n",
    "    ccs_arr = np.array(json_file[\"ccs\"])\n",
    "    ccs_arr += 100\n",
    "    hv = hypervolume(np.ones(3)*100, ccs_arr)\n",
    "    spar = sparsity(ccs_arr)\n",
    "    HV.append(hv)\n",
    "    sp.append(spar)\n",
    "    \n",
    "plt.plot(HV, label=\"Hypervolume\")\n",
    "plt.title(\"Hypervolume metric\")\n",
    "plt.ylabel(\"Hypervolume\")\n",
    "plt.xlabel(\"Iterations\")\n",
    "plt.show()\n",
    "\n",
    "plt.plot(sp, label=\"Sparsity\")\n",
    "plt.title(\"Sparsity metric\")\n",
    "plt.ylabel(\"Sparsity\")\n",
    "plt.xlabel(\"Iterations\")\n",
    "plt.show()\n",
    "\n",
    "print(f\"Final Hypervolume: {HV[-1]}\")\n",
    "print(f\"Final Sparsity: {sp[-1]}\")"
   ]
  },
  {
   "cell_type": "markdown",
   "id": "349205ff",
   "metadata": {},
   "source": [
    "Seed 1234:\n",
    "* Final Hypervolume: 51001.37465427368\n",
    "* Final Sparsity: 18.68394264067051\n",
    "\n",
    "Seed 1244:\n",
    "* Final Hypervolume: 51439.89789642078\n",
    "* Final Sparsity: 7.958373256709881\n",
    "\n",
    "Seed 1254:\n",
    "* Final Hypervolume: 55186.89559610035\n",
    "* Final Sparsity: 6.325232397371045\n"
   ]
  },
  {
   "cell_type": "markdown",
   "id": "4d95f03e",
   "metadata": {},
   "source": [
    "# Practical examples\n",
    "- Check the final costs\n",
    "- Check the actions"
   ]
  }
 ],
 "metadata": {
  "kernelspec": {
   "display_name": "Python 3 (ipykernel)",
   "language": "python",
   "name": "python3"
  },
  "language_info": {
   "codemirror_mode": {
    "name": "ipython",
    "version": 3
   },
   "file_extension": ".py",
   "mimetype": "text/x-python",
   "name": "python",
   "nbconvert_exporter": "python",
   "pygments_lexer": "ipython3",
   "version": "3.9.13"
  }
 },
 "nbformat": 4,
 "nbformat_minor": 5
}
